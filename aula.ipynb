{
 "cells": [
  {
   "cell_type": "code",
   "execution_count": null,
   "id": "b60fdb15",
   "metadata": {},
   "outputs": [],
   "source": [
    "# Jupter Notebook\n",
    "\n",
    "É um ambiente que viabiliza \n",
    " - Execcução de códigos\n",
    " - Criação de documento com texto formatado\n",
    " - Plotagem de gráficos\n",
    "    \n",
    "    é frequentemente usado para notas de aula\n",
    "\n"
   ]
  },
  {
   "cell_type": "code",
   "execution_count": 1,
   "id": "6a12ba07",
   "metadata": {},
   "outputs": [
    {
     "name": "stdout",
     "output_type": "stream",
     "text": [
      "Fala,dev, tudo bem?\n"
     ]
    }
   ],
   "source": [
    "print(\"Fala,dev, tudo bem?\")"
   ]
  },
  {
   "cell_type": "code",
   "execution_count": 2,
   "id": "50e6df72",
   "metadata": {},
   "outputs": [
    {
     "name": "stdout",
     "output_type": "stream",
     "text": [
      "Bem vindo a aula 2!\n"
     ]
    }
   ],
   "source": [
    "print(\"Bem vindo a aula 2!\")"
   ]
  },
  {
   "cell_type": "code",
   "execution_count": 7,
   "id": "88cdaeae",
   "metadata": {},
   "outputs": [
    {
     "name": "stdout",
     "output_type": "stream",
     "text": [
      "Bem vindas a aula2!\n"
     ]
    }
   ],
   "source": [
    "print(\"Bem vindas a aula2!\")"
   ]
  },
  {
   "cell_type": "code",
   "execution_count": 5,
   "id": "1305c955",
   "metadata": {},
   "outputs": [],
   "source": [
    "import random\n",
    "random.randint?"
   ]
  },
  {
   "cell_type": "code",
   "execution_count": 12,
   "id": "d31542b7",
   "metadata": {},
   "outputs": [],
   "source": [
    "num = 3"
   ]
  },
  {
   "cell_type": "code",
   "execution_count": 14,
   "id": "2be32c65",
   "metadata": {},
   "outputs": [],
   "source": [
    "num=num + 2"
   ]
  },
  {
   "cell_type": "code",
   "execution_count": 13,
   "id": "faff09ef",
   "metadata": {},
   "outputs": [],
   "source": [
    "num = num*2"
   ]
  },
  {
   "cell_type": "code",
   "execution_count": 15,
   "id": "914afa17",
   "metadata": {},
   "outputs": [
    {
     "name": "stdout",
     "output_type": "stream",
     "text": [
      "8\n"
     ]
    }
   ],
   "source": [
    "print(num)"
   ]
  },
  {
   "cell_type": "markdown",
   "id": "de5dfcae",
   "metadata": {},
   "source": []
  },
  {
   "cell_type": "markdown",
   "id": "02c38488",
   "metadata": {},
   "source": [
    "import time\n",
    "for i in range(100):\n",
    "    print(i)\n",
    "    time.sleep(1)"
   ]
  }
 ],
 "metadata": {
  "kernelspec": {
   "display_name": "Python 3 (ipykernel)",
   "language": "python",
   "name": "python3"
  },
  "language_info": {
   "codemirror_mode": {
    "name": "ipython",
    "version": 3
   },
   "file_extension": ".py",
   "mimetype": "text/x-python",
   "name": "python",
   "nbconvert_exporter": "python",
   "pygments_lexer": "ipython3",
   "version": "3.11.4"
  }
 },
 "nbformat": 4,
 "nbformat_minor": 5
}
